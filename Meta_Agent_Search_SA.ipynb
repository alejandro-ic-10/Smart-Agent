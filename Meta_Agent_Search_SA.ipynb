{
 "cells": [
  {
   "cell_type": "markdown",
   "metadata": {},
   "source": [
    "# Parte I - Extracción de comentarios de redes sociales y foros especializados"
   ]
  },
  {
   "cell_type": "markdown",
   "metadata": {},
   "source": [
    "### 1. Agente encargado de la extracción de datos"
   ]
  },
  {
   "cell_type": "code",
   "execution_count": 22,
   "metadata": {},
   "outputs": [],
   "source": [
    "from selenium import webdriver\n",
    "from selenium.webdriver.common.by import By\n",
    "import time\n",
    "from selenium.webdriver.common.keys import Keys\n",
    "\n",
    "inicio = time.time()\n",
    "urlR = \"https://www.reddit.com/\" #Comentarios de Reddit\n",
    "urlX = \"https://x.com/\" #Comentarios de X"
   ]
  },
  {
   "cell_type": "code",
   "execution_count": 23,
   "metadata": {},
   "outputs": [
    {
     "ename": "NoSuchWindowException",
     "evalue": "Message: no such window: target window already closed\nfrom unknown error: web view not found\n  (Session info: chrome=129.0.6668.101)\nStacktrace:\n\tGetHandleVerifier [0x00007FF6E204B095+29557]\n\t(No symbol) [0x00007FF6E1FBFA50]\n\t(No symbol) [0x00007FF6E1E7B56A]\n\t(No symbol) [0x00007FF6E1E4FCC5]\n\t(No symbol) [0x00007FF6E1EFEE07]\n\t(No symbol) [0x00007FF6E1F17E21]\n\t(No symbol) [0x00007FF6E1EF6F33]\n\t(No symbol) [0x00007FF6E1EC116F]\n\t(No symbol) [0x00007FF6E1EC22D1]\n\tGetHandleVerifier [0x00007FF6E237C96D+3378253]\n\tGetHandleVerifier [0x00007FF6E23C8497+3688311]\n\tGetHandleVerifier [0x00007FF6E23BD1CB+3642539]\n\tGetHandleVerifier [0x00007FF6E210A6B6+813462]\n\t(No symbol) [0x00007FF6E1FCAB5F]\n\t(No symbol) [0x00007FF6E1FC6B74]\n\t(No symbol) [0x00007FF6E1FC6D10]\n\t(No symbol) [0x00007FF6E1FB5C1F]\n\tBaseThreadInitThunk [0x00007FFEB35D257D+29]\n\tRtlUserThreadStart [0x00007FFEB40CAF08+40]\n",
     "output_type": "error",
     "traceback": [
      "\u001b[1;31m---------------------------------------------------------------------------\u001b[0m",
      "\u001b[1;31mNoSuchWindowException\u001b[0m                     Traceback (most recent call last)",
      "Cell \u001b[1;32mIn[23], line 2\u001b[0m\n\u001b[0;32m      1\u001b[0m \u001b[38;5;66;03m#Datos obtenidos de Reddit\u001b[39;00m\n\u001b[1;32m----> 2\u001b[0m driver\u001b[38;5;241m.\u001b[39mget(urlR)\n\u001b[0;32m      3\u001b[0m time\u001b[38;5;241m.\u001b[39msleep(\u001b[38;5;241m5\u001b[39m)\n\u001b[0;32m      5\u001b[0m input_search_info \u001b[38;5;241m=\u001b[39m driver\u001b[38;5;241m.\u001b[39mfind_element(By\u001b[38;5;241m.\u001b[39mXPATH, \u001b[38;5;124m'\u001b[39m\u001b[38;5;124m/html/body/shreddit-app/reddit-header-large/reddit-header-action-items/header/nav/div[2]/div/div\u001b[39m\u001b[38;5;124m'\u001b[39m)\n",
      "File \u001b[1;32m~\\AppData\\Roaming\\Python\\Python312\\site-packages\\selenium\\webdriver\\remote\\webdriver.py:363\u001b[0m, in \u001b[0;36mWebDriver.get\u001b[1;34m(self, url)\u001b[0m\n\u001b[0;32m    361\u001b[0m \u001b[38;5;28;01mdef\u001b[39;00m \u001b[38;5;21mget\u001b[39m(\u001b[38;5;28mself\u001b[39m, url: \u001b[38;5;28mstr\u001b[39m) \u001b[38;5;241m-\u001b[39m\u001b[38;5;241m>\u001b[39m \u001b[38;5;28;01mNone\u001b[39;00m:\n\u001b[0;32m    362\u001b[0m \u001b[38;5;250m    \u001b[39m\u001b[38;5;124;03m\"\"\"Loads a web page in the current browser session.\"\"\"\u001b[39;00m\n\u001b[1;32m--> 363\u001b[0m     \u001b[38;5;28mself\u001b[39m\u001b[38;5;241m.\u001b[39mexecute(Command\u001b[38;5;241m.\u001b[39mGET, {\u001b[38;5;124m\"\u001b[39m\u001b[38;5;124murl\u001b[39m\u001b[38;5;124m\"\u001b[39m: url})\n",
      "File \u001b[1;32m~\\AppData\\Roaming\\Python\\Python312\\site-packages\\selenium\\webdriver\\remote\\webdriver.py:354\u001b[0m, in \u001b[0;36mWebDriver.execute\u001b[1;34m(self, driver_command, params)\u001b[0m\n\u001b[0;32m    352\u001b[0m response \u001b[38;5;241m=\u001b[39m \u001b[38;5;28mself\u001b[39m\u001b[38;5;241m.\u001b[39mcommand_executor\u001b[38;5;241m.\u001b[39mexecute(driver_command, params)\n\u001b[0;32m    353\u001b[0m \u001b[38;5;28;01mif\u001b[39;00m response:\n\u001b[1;32m--> 354\u001b[0m     \u001b[38;5;28mself\u001b[39m\u001b[38;5;241m.\u001b[39merror_handler\u001b[38;5;241m.\u001b[39mcheck_response(response)\n\u001b[0;32m    355\u001b[0m     response[\u001b[38;5;124m\"\u001b[39m\u001b[38;5;124mvalue\u001b[39m\u001b[38;5;124m\"\u001b[39m] \u001b[38;5;241m=\u001b[39m \u001b[38;5;28mself\u001b[39m\u001b[38;5;241m.\u001b[39m_unwrap_value(response\u001b[38;5;241m.\u001b[39mget(\u001b[38;5;124m\"\u001b[39m\u001b[38;5;124mvalue\u001b[39m\u001b[38;5;124m\"\u001b[39m, \u001b[38;5;28;01mNone\u001b[39;00m))\n\u001b[0;32m    356\u001b[0m     \u001b[38;5;28;01mreturn\u001b[39;00m response\n",
      "File \u001b[1;32m~\\AppData\\Roaming\\Python\\Python312\\site-packages\\selenium\\webdriver\\remote\\errorhandler.py:229\u001b[0m, in \u001b[0;36mErrorHandler.check_response\u001b[1;34m(self, response)\u001b[0m\n\u001b[0;32m    227\u001b[0m         alert_text \u001b[38;5;241m=\u001b[39m value[\u001b[38;5;124m\"\u001b[39m\u001b[38;5;124malert\u001b[39m\u001b[38;5;124m\"\u001b[39m]\u001b[38;5;241m.\u001b[39mget(\u001b[38;5;124m\"\u001b[39m\u001b[38;5;124mtext\u001b[39m\u001b[38;5;124m\"\u001b[39m)\n\u001b[0;32m    228\u001b[0m     \u001b[38;5;28;01mraise\u001b[39;00m exception_class(message, screen, stacktrace, alert_text)  \u001b[38;5;66;03m# type: ignore[call-arg]  # mypy is not smart enough here\u001b[39;00m\n\u001b[1;32m--> 229\u001b[0m \u001b[38;5;28;01mraise\u001b[39;00m exception_class(message, screen, stacktrace)\n",
      "\u001b[1;31mNoSuchWindowException\u001b[0m: Message: no such window: target window already closed\nfrom unknown error: web view not found\n  (Session info: chrome=129.0.6668.101)\nStacktrace:\n\tGetHandleVerifier [0x00007FF6E204B095+29557]\n\t(No symbol) [0x00007FF6E1FBFA50]\n\t(No symbol) [0x00007FF6E1E7B56A]\n\t(No symbol) [0x00007FF6E1E4FCC5]\n\t(No symbol) [0x00007FF6E1EFEE07]\n\t(No symbol) [0x00007FF6E1F17E21]\n\t(No symbol) [0x00007FF6E1EF6F33]\n\t(No symbol) [0x00007FF6E1EC116F]\n\t(No symbol) [0x00007FF6E1EC22D1]\n\tGetHandleVerifier [0x00007FF6E237C96D+3378253]\n\tGetHandleVerifier [0x00007FF6E23C8497+3688311]\n\tGetHandleVerifier [0x00007FF6E23BD1CB+3642539]\n\tGetHandleVerifier [0x00007FF6E210A6B6+813462]\n\t(No symbol) [0x00007FF6E1FCAB5F]\n\t(No symbol) [0x00007FF6E1FC6B74]\n\t(No symbol) [0x00007FF6E1FC6D10]\n\t(No symbol) [0x00007FF6E1FB5C1F]\n\tBaseThreadInitThunk [0x00007FFEB35D257D+29]\n\tRtlUserThreadStart [0x00007FFEB40CAF08+40]\n"
     ]
    }
   ],
   "source": [
    "#Datos obtenidos de Reddit\n",
    "driver = webdriver.Chrome()\n",
    "driver.get(urlR)\n",
    "time.sleep(5)\n",
    "\n",
    "input_search_info = driver.find_element(By.XPATH, '/html/body/shreddit-app/reddit-header-large/reddit-header-action-items/header/nav/div[2]/div/div')\n",
    "input_search_info.send_keys('tesla stock')\n",
    "time.sleep(1)"
   ]
  }
 ],
 "metadata": {
  "kernelspec": {
   "display_name": "base",
   "language": "python",
   "name": "python3"
  },
  "language_info": {
   "codemirror_mode": {
    "name": "ipython",
    "version": 3
   },
   "file_extension": ".py",
   "mimetype": "text/x-python",
   "name": "python",
   "nbconvert_exporter": "python",
   "pygments_lexer": "ipython3",
   "version": "3.12.4"
  }
 },
 "nbformat": 4,
 "nbformat_minor": 2
}
